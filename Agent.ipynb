{
  "nbformat": 4,
  "nbformat_minor": 0,
  "metadata": {
    "colab": {
      "provenance": []
    },
    "kernelspec": {
      "name": "python3",
      "display_name": "Python 3"
    },
    "language_info": {
      "name": "python"
    }
  },
  "cells": [
    {
      "cell_type": "code",
      "execution_count": null,
      "metadata": {
        "colab": {
          "base_uri": "https://localhost:8080/"
        },
        "id": "78EH_MzSg6PE",
        "outputId": "3b6f214d-9cde-4cdf-f542-d17d924025a2"
      },
      "outputs": [
        {
          "output_type": "stream",
          "name": "stdout",
          "text": [
            "Step 1: Room = ['Dirty', 'Dirty'], Performance = 0\n",
            "Step 2: Room = ['Dirty', 'Clean'], Performance = 1\n",
            "Step 3: Room = ['Clean', 'Clean'], Performance = 2\n",
            "Step 4: Room = ['Clean', 'Clean'], Performance = 2\n"
          ]
        }
      ],
      "source": [
        "import random\n",
        "\n",
        "location = random.choice([0, 1])  # Randomly select initial location\n",
        "performance = 0  # Performance metric, increases with each clean action\n",
        "room = [\"Dirty\", \"Dirty\"]  # Initialize room with both squares clean\n",
        "\n",
        "for step in range(4):\n",
        "    print(f\"Step {step + 1}: Room = {room}, Performance = {performance}\")\n",
        "    current_status = room[location]\n",
        "    if current_status == \"Dirty\":\n",
        "        room[location] = \"Clean\"\n",
        "        performance += 1\n",
        "    location = (location + 1) % 2  # Move to the other square (either 0 or 1)"
      ]
    }
  ]
}